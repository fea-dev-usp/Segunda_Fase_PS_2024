{
 "cells": [
  {
   "cell_type": "markdown",
   "metadata": {},
   "source": [
    "# **Case Sem Programação**"
   ]
  },
  {
   "cell_type": "markdown",
   "metadata": {},
   "source": [
    "Bem vindos à Fenda do Biquini!\n",
    "\n",
    "Aqui vocês irão exercitar seu raciocício para ajudar o Bob Esponja e tantos outros personagens queridos.\n",
    "\n",
    "Pela primeira vez na história, a FEA.dev criou esse Case sem Programação para qualquer um interessado em se juntar a nós realizar. Esperamos que vocês gostem, aprendam e se esforçem, divirtam-se!"
   ]
  },
  {
   "cell_type": "markdown",
   "metadata": {},
   "source": [
    "<center> <img alt='Bob Esponja' width=80% src='https://images7.alphacoders.com/128/1281519.jpg'/> </center>"
   ]
  },
  {
   "cell_type": "markdown",
   "metadata": {},
   "source": [
    "## **Questão 1**\n",
    "Siga as instruções do link abaixo para a construção do fluxograma\n",
    "\n",
    "https://feadev-processo-seletivo-fluxograma.notion.site/1-Fase-Processo-Seletivo-Fluxograma-08cb6cecfc1f4a0cb5bba4cb355a039c"
   ]
  },
  {
   "cell_type": "markdown",
   "metadata": {},
   "source": [
    "## **Questão 2**\n",
    "### Dentre os dois problemas de lógica apresentados, escolha 1 deles para resolver:\n"
   ]
  },
  {
   "cell_type": "markdown",
   "metadata": {},
   "source": [
    "**a)** No Siri Cascudo, Bob Esponja recebeu 100 caixas contendo ingredientes para cozinhar hambúrgueres de siri. Cada caixa possui a massa de 10 kg. Para organizar o estoque, as caixas foram divididas igualmente em 10 pilhas, numeradas de 1 a 10. Contudo, em uma das pilhas - e somente nela - aconteceu um problema: todas as caixas eram mais leves e foi descoberto que  a massa delas era de 8 kg. Bob Esponja precisa encontrar o mais rápido possível qual é a pilha errada, ele possui uma balança de alta precisão. Indique como ele pode identificar a pilha errada em apenas uma pesagem.\n"
   ]
  },
  {
   "cell_type": "markdown",
   "metadata": {},
   "source": [
    "## OU"
   ]
  },
  {
   "cell_type": "markdown",
   "metadata": {},
   "source": [
    "**b)**  Sandy decidiu plantar um coqueiro em sua peculiar casa de vidro debaixo do mar. Porém o malvado Plankton, com seus planos mirabolantes, envenenou um dos 9 cocos. \n",
    "\n",
    "Sandy descobre sobre esse plano malígno e tenta descobrir qual o coco envenenado. Para isso, ela sabe:\n",
    "\n",
    "- Os cocos tem o **MESMO** peso, **MENOS** o envenenado que é **MAIS** pesado\n",
    "- Ela tem uma **balança de dois pratos** que só pode ser usada **2 vezes**\n",
    "    \n",
    "Com essas circunstâncias, como Sandy faria para descobrir qual o coco envenenado e não ficar doente\n"
   ]
  },
  {
   "cell_type": "markdown",
   "metadata": {},
   "source": [
    "<center> <img alt='Bob Esponja' width=\"450px\" src='https://i.pinimg.com/736x/6a/42/20/6a422016292599235ddbb08aa8de7228.jpg'/> <img alt='Bob Esponja' width=\"520px\" src='https://i.pinimg.com/originals/2e/27/b6/2e27b68643c76ff72296992345b1368d.png'/>  </center>"
   ]
  },
  {
   "cell_type": "markdown",
   "metadata": {},
   "source": [
    "*Resposta da Questão 2:*"
   ]
  },
  {
   "cell_type": "markdown",
   "metadata": {},
   "source": [
    "## **Questão 3**"
   ]
  },
  {
   "cell_type": "markdown",
   "metadata": {},
   "source": [
    "Patrick Estrela, o grande amigo do Bob Esponja, tem uma coleção peculiar de 100 caixas de papelão, cada uma contendo um número único (não necessariamente numeradas de 1 a 100, são números aleatórios). Essas caixas estão bagunçadas em sua estante, sem seguir qualquer ordem específica. Patrick deseja ordenar esses números em ordem crescente, mas há um pequeno problema: ele só consegue ver um número de cada caixa por vez e depois de abrir uma caixa ele deve deixar o número dentro de volta e fecha-lá, já que suas mãos não são tão ágeis e seu intelecto é limitado.\n",
    "\n",
    "Sua missão é ajudar Patrick a ordenar sua coleção.\n",
    "\n",
    "Os candidatos devem listar os passos simples que Patrick deve seguir para ordenar suas caixas, sem se estender em explicações detalhadas.\n",
    "\n",
    "Não tem apenas uma resposta correta, tente achar a maneira mais eficiente e rápida para que o Patrick possa ir encontrar logo seu amigo Bob no Siri Cascudo para comer um delicioso hambúrguer de siri\n",
    "\n",
    "\n",
    "\n",
    "<center> <img alt='Bob Esponja' width=\"450px\" src='https://uploads.jovemnerd.com.br/wp-content/uploads/2020/08/spin-off-patrick-bob-esponja.jpg'/> </center>"
   ]
  },
  {
   "cell_type": "markdown",
   "metadata": {},
   "source": [
    "*Resposta da Questão 3:*\n",
    "\n"
   ]
  },
  {
   "cell_type": "markdown",
   "metadata": {},
   "source": [
    "## **Questão 4: Ensinar/ Aprender**"
   ]
  },
  {
   "cell_type": "markdown",
   "metadata": {},
   "source": [
    "Bob Esponja, um entusiasta  em aprender, está enfrentando uma frustração incomum. Apesar de sua perspectiva otimista, ele tem encontrado dificuldades em tarefas simples do dia-a-dia, levando-o a questionar sua própria habilidade de aprender. Um dia, enquanto passeia pela animada Fenda do Bikini, ele percebe que não sabe amarrar os cadarços e sente-se desafiado ao ver uma criança fazendo isso com facilidade, e ainda por cima mostrando sua conquista para a mãe. Essa situação desperta nele um desejo ardente de aprender de forma mais sistemática e científica.\n",
    "\n",
    "Objetivo:\n",
    "\n",
    "\n",
    "Ensinar Bob Esponja a amarrar cadarços, dividindo o processo em etapas simples e compreensíveis. Busque sintetizar sua resposta em texto, relatando possíveis perguntas que o Esponjudo possa querer te fazer para auxiliar no aprendizado.\n",
    "Lembre-se de adequar as respostas pensando nas dificuldades que o nosso amigo possui e também pesquisar e demonstrar as fontes do método para amarrar cadarços que encontrar.\n",
    "\n",
    "<center> <img alt='Bob Esponja' width=\"450px\" src='https://s.rfi.fr/media/display/1a63e3ec-11ff-11ea-88ea-005056a99247/w:1280/p:4x3/bobesponja.jpg'/> </center>\n"
   ]
  },
  {
   "cell_type": "markdown",
   "metadata": {},
   "source": [
    "*Resposta da Questão 4:*"
   ]
  }
 ],
 "metadata": {
  "kernelspec": {
   "display_name": "Python 3",
   "language": "python",
   "name": "python3"
  },
  "language_info": {
   "codemirror_mode": {
    "name": "ipython",
    "version": 3
   },
   "file_extension": ".py",
   "mimetype": "text/x-python",
   "name": "python",
   "nbconvert_exporter": "python",
   "pygments_lexer": "ipython3",
   "version": "3.11.3"
  }
 },
 "nbformat": 4,
 "nbformat_minor": 2
}
