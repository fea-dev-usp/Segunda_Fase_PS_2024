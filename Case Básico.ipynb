{
 "cells": [
  {
   "cell_type": "markdown",
   "metadata": {},
   "source": [
    "# **Case Básico**"
   ]
  },
  {
   "cell_type": "markdown",
   "metadata": {},
   "source": [
    "\n",
    "No Vale da Programação, onde os códigos fluem como os rios e a sabedoria ancestral é codificada em cada linha de algoritmo, existe uma antiga profecia sobre um Guerreiro Panda destinado a dominar não apenas as artes marciais, mas também os segredos ocultos da programação. Este guerreiro lendário é conhecido como Po, um mestre em formar laços entre o físico e o digital para manter a harmonia no mundo da tecnologia.\n",
    "\n",
    "No entanto, a harmonia é ameaçada pela ascensão de bugs e erros no sistema, causando disrupções em todo o Vale da Programação. O malévolo Hacker Tai Lung, uma vez considerado um prodígio do código, busca explorar as fraquezas dos sistemas para obter poder absoluto.\n",
    "\n",
    "Para que Po possa derrotar o temido Tai Lung ele deve primeiro passar pelos Lendários 4 Desafios e obter o Segredo do Código. Cada desafio testará suas habilidades em diferentes aspectos da programação para que enfim ele possa descobrir o tão cobiçado segredo e derrotar Tai Lung de uma vez por todas."
   ]
  },
  {
   "cell_type": "markdown",
   "metadata": {},
   "source": [
    "<center> <img alt='Poo e 5 Furiosos' width=80% src='https://wallpapercave.com/wp/wp1966749.jpg'/> </center>"
   ]
  },
  {
   "cell_type": "markdown",
   "metadata": {},
   "source": [
    "## **Questão 1: Pedra-Papel-Tesoura**"
   ]
  },
  {
   "cell_type": "markdown",
   "metadata": {},
   "source": [
    "A jornada para descobrir o Segredo do Código é longa, árdua e repleta de desafios. Mas toda caminho começa em algum lugar. Para proteger o Vale da Programação de Tai Lung você deve primeiro dominar a antiga e tradicional arte do **Pedra-Papel-Tesoura**."
   ]
  },
  {
   "cell_type": "markdown",
   "metadata": {},
   "source": [
    "<img src=\"https://lh3.googleusercontent.com/pw/AP1GczPG0BtxfAWW6dzrdidNag9nf8TqkJLiC_aEsqie5f5eg6nttlAP29ypJaWl32QGfMbO48qYK5qlF7oWkGbHqYFD1MGxBBi3XWiiFHEQo119gajs2oCtc9X5rqyvAYTnFAGJw1NlUqLsfFZL2jNFbApi=w508-h321-s-no-gm?authuser=0\" alt=\"Your GIF\" height= 180 width= 254> <img src=\"https://lh3.googleusercontent.com/pw/AP1GczOTi81dZRvoFavKIJVUE0GrpAmL_I6uPOe33Ggyr662HbkYDVnvqqRRJl0T3TEJFA1u7qIwyq53XpiwMz5FT0QuhD9O-RKvPbwlpfEafV7VfX1tC0mmlmHzBvjdN_H0YGsRZNbB3vuYIDAtsBZFHU2g=w508-h321-s-no-gm?authuser=0\" alt=\"Your GIF2\" height= 180 width= 254> <img src=\"https://lh3.googleusercontent.com/pw/AP1GczMkTkI5ybglVudeQie3VbGKW81zOtqUUjzDW6gzpTNBYY7_D5GKHI30wVRmiEEui6FCaYNF4QcXXWS_E04RUhKN3a4VLZGU011qk1AbY9YrHTwB1FZAaNIV4G2986iSEEzylcKl_kvHCpVRIUOmy9vY=w508-h321-s-no-gm?authuser=0\" alt=\"Your GIF\" height= 180 width= 254>\n",
    "\n",
    "### *Instruções*\n",
    "\n",
    "Neste exercício você deverá criar um código para jogar pedra, papel ou tesoura e ganhar contra a máquina. O jogo deve mostrar a escolha do jogador, a escolha do computador e anunciar quem ganhou. Após o fim do jogo o programa deve oferecer ao usuário a opção de jogar novamente. \n",
    "\n",
    "\n",
    "### Dicas\n",
    "\n",
    "* Utilize a biblioteca random para definir o comportamento da máquina."
   ]
  },
  {
   "cell_type": "code",
   "execution_count": null,
   "metadata": {},
   "outputs": [],
   "source": [
    "# SEU CÓDIGO COMEÇA AQUI"
   ]
  },
  {
   "cell_type": "markdown",
   "metadata": {},
   "source": [
    "## **Questão 2: Feriados no calendário chinês**\n",
    "\n",
    "Enquanto busca desvendar os segredos do código, Po percebe que, para manter a harmonia em seu treinamento, é essencial conhecer os dias de feriado do ano segundo o calendário chinês. Cada feriado representa uma pausa necessária em sua jornada, uma oportunidade para refletir sobre os desafios enfrentados e renovar suas energias para os obstáculos que ainda virão. Portanto, Po embarca em uma missão para desenvolver um programa que exiba o total de dias de feriado ao longo do ano, permitindo-lhe antecipar a quantidade de  descanso que terá no ano em meio à busca incansável pelo segredo do código.\n",
    "\n",
    "<img src=\"https://lh3.googleusercontent.com/pw/AP1GczN_uBGxs32zwl-hrpiQpfkETUdmz-y5CFjW3H71zHp42CrP4s330bkN2s3tbabuAqA6ukg2Qh7Brx3N8Up4CJY0zw7CEXNCRxtHg1_1tvgm78MSe2NznlA1Qu-hLdXUEv0L2P0tXq_iwEv8Npm5b6eL=w915-h803-s-no-gm?authuser=0\" alt=\"Your GIF\" height= 303 width= 303>\n",
    "\n",
    "### *Instruções*\n",
    "\n",
    "Utilize o dicionário abaixo com os dados dos feriados no calendário chinês e mostre ao usuário a quantidade total de feriados no ano."
   ]
  },
  {
   "cell_type": "code",
   "execution_count": null,
   "metadata": {},
   "outputs": [],
   "source": [
    "feriados_chineses = {\n",
    "  \"Ano Novo Chinês\": {\n",
    "      \"data\": [9,10,11,12,13,14,15],\n",
    "      \"mes\": 2\n",
    "  },\n",
    "  \"Festival das Lanternas\": {\n",
    "      \"data\": [5],\n",
    "      \"mes\": 1\n",
    "  },\n",
    "  \"Festival Qingming\": {\n",
    "      \"data\": [5],\n",
    "      \"mes\": 4\n",
    "  },\n",
    "  \"Dia do Trabalho\": {\n",
    "      \"data\": [1],\n",
    "      \"mes\": 5\n",
    "  },\n",
    "  \"Festival do Dragão\": {\n",
    "      \"data\": [5],\n",
    "      \"mes\": 5\n",
    "  },\n",
    "  \"Festival Duanwu\": {\n",
    "      \"data\": [3],\n",
    "      \"mes\": 6\n",
    "  },\n",
    "  \"Festival Qixi\": {\n",
    "      \"data\": [7],\n",
    "      \"mes\": 7\n",
    "  },\n",
    "  \"Festival Fantasma Faminto\": {\n",
    "      \"data\": [15],\n",
    "      \"mes\": 7\n",
    "  },\n",
    "  \"Festival do Meio Outono\": {\n",
    "      \"data\": [15],\n",
    "      \"mes\": 8\n",
    "  },\n",
    "  \"Dia Nacional da China\": {\n",
    "      \"data\": [1,2,3],\n",
    "      \"mes\": 10\n",
    "  },\n",
    "  \"Festival da Lua\": {\n",
    "      \"data\": [17],\n",
    "      \"mes\": 9\n",
    "  }\n",
    "}\n"
   ]
  },
  {
   "cell_type": "code",
   "execution_count": null,
   "metadata": {},
   "outputs": [],
   "source": [
    "# SEU CÓDIGO COMEÇA AQUI"
   ]
  },
  {
   "cell_type": "markdown",
   "metadata": {},
   "source": [
    "## **Questão 3: Descriptografar mensagem**"
   ]
  },
  {
   "cell_type": "markdown",
   "metadata": {},
   "source": [
    "Mestre Sifu mandou uma mensagem para todos da vila alertando sobre o perigo que todos estão correndo com a volta de Tai Lung. Ele recorreu à criptografia para garantir que a mensagem não seja interceptada por espiões inimigos. A mensagem é codificada em uma série de números e caracteres especiais, desafiando Po a quebrá-la e garantir que todos na vila compreendam a gravidade da situação. Cabe a Po utilizar seus conhecimentos em algoritmos de descriptografia para aplicar as chaves informadas por Mestre Sifu e disseminar o aviso crucial entre os moradores, preparando-os para enfrentar a ameaça de Tai Lung.\n",
    "\n",
    "<img src=\"https://lh3.googleusercontent.com/pw/AP1GczMgK6ekavYDqBrwC9LP62Ho9j7iJBgGaT8DOFgtv9jmof3cwqvOBFpOEfVGwP4Xw3_7C5aC6OoM3NkgaC2zx7vJ7UXEu5jfLcz0oj0op_2rVXJzQq1zkaTOne5InEPhoYaU3g72PppN4UmlcHjsoCwk=w910-h795-s-no-gm?authuser=0\" alt=\"Your GIF\" height= 303 width= 303>\n",
    "\n",
    "### *Instruções*\n",
    "Descriptografe a mensagem e assegure que todos os moradores da vila estão cientes do perigo. As chaves para ler a mensagem, informadas por Mestre Sifu a Po, são: \"@\" para \"o\", \"1\" para \"a\", \"0\" para \"u\", \"7\" para \"e\" e \"4\" para \"i\"."
   ]
  },
  {
   "cell_type": "code",
   "execution_count": null,
   "metadata": {},
   "outputs": [],
   "source": [
    "mensagem = \"1t7nç1@ v4l1. T14 L0ng 7st1 d7 v@lt1. S7 pr7p1r7m p1r1 @ p7r4g@. 7l7 é f@rt7 e cr07l, m1s j0nt@s p@d7m@s d7rr@t1-l@.\"\n",
    "\n",
    "# SEU CÓDIGO COMEÇA AQUI"
   ]
  },
  {
   "cell_type": "markdown",
   "metadata": {},
   "source": [
    "## **Questão 4: Black Jack Celestial**\n",
    "\n",
    "No fim da jornada de Po para desvendar os segredos do código e enfrentar Tai Lung, ele é confrontado com o Desafio Final: um jogo de cartas chinês, conhecido como Black Jack Celestial. Este jogo ancestral é muito mais do que uma simples competição; é uma metáfora dos desafios que Po enfrentou em sua jornada, exigindo não apenas habilidade estratégica, mas também sabedoria e discernimento.\n",
    "\n",
    "<img src=\"https://lh3.googleusercontent.com/pw/AP1GczO5ygNATVqSgrChMVTo449sTidXva4OMY69HDhD8zFGfBEc2k6Q6w1iTEClFn9hKnv1p0EautUfFCT0UfZGofmnplXV_p7F1veKolt4vpSkPDgj95_Xg7NjqZBROitjkuu81nuRBZ1O0gEBgr8xkDKr=w915-h808-s-no-gm?authuser=0\" alt=\"Your GIF\" height= 303 width= 313>\n",
    "\n",
    "### *Regras do jogo*\n",
    "\n",
    "O Blackjack celestial é uma variante do Black Jack. O jogo é jogado entre o jogador e o dealer os quais têm como objetivo possuir no final do jogo uma mão maior do que a do oponente sem passar de 21 pontos. Os pontos por sua vez são contados a partir do valor determinado de cada carta:\n",
    "\n",
    "* Cartas numéricas tem valor correspondente ao seu próprio número\n",
    "\n",
    "* Todas as cartas com rosto <b>(J,Q,K)</b> valem 10 pontos.\n",
    "\n",
    "* O <b>A</b>'s em especial pode valer tanto 1 ou 11 pontos.\n",
    "\n",
    "O jogo se desenrola em 4 fases distintas:\n",
    "<br>\n",
    "1. <b>Distribuição das cartas</b>\n",
    "<br>\n",
    "* O jogo começa com o dealer embaralhando o baralho e distribuindo duas para cada parte. O dealer deve ter sua primeira carta virada para baixo e sua segunda carta virada para cima, já o jogador por sua vez não deve revelar nenhuma de suas cartas à mesa.\n",
    "\n",
    "<br>\n",
    "2. <b>Rodada do Jogador</b>\n",
    "* Após receber as cartas e analisar sua mão e a mão do dealer, o jogador possui duas possíveis ações: <b><i>Hit ou Stand</i></b>.\n",
    "\n",
    "* <b><i>Hit</i></b>: Ao dar hit, o jogador compra mais uma carta. Caso não tenha ultrapassado de 21 pontos ele pode escolher entre hit e stand novamente. \n",
    "\n",
    "* <b><i>Stand</i></b>: Ao escolher stand, o jogador finaliza sua rodada.\n",
    "\n",
    "* Caso o jogador consiga 5 cartas sem ultrapassar os 21 pontos, ele terá em suas mãos os <b><i>5 FURIOSOS</i></b>. Neste caso, o jogo acaba e o jogador ganhar imediatamente.\n",
    "\n",
    "* Caso o jogador ultrapasse de 21 pontos, ele perde imediatamente.\n",
    "<br>\n",
    "\n",
    "3. <b>Rodada do Dealer</b>\n",
    "<br>\n",
    "* Assim como o jogador o dealer pode dar <b><i>Hit ou Stand</i></b>. Porém, diferente do jogador, ele não tem escolha sobre suas ações. \n",
    "* Caso o dealer tenha menos de 16 pontos, o dealer deve dar <b><i>Hit</i></b>.\n",
    "\n",
    "* Caso o dealer tenha 16 pontos ou mais sem ultrapassar 21 pontos, o dealer deve revelar as cartas do jogador e dar <b><i>Hit</i></b> até que sua mão seja maior ou igual à mão \n",
    "do jogador, porém, assim como o jogador, caso o dealer ultrapasse os 21 pontos, ele perde.\n",
    "\n",
    "* Por fim, caso o dealer obtenha os <b><i>5 FURIOSOS</i></b>, ele ganha automaticamente.\n",
    "\n",
    "* Caso o dealer tenha 21 pontos, ele da <b><i>Stand</i></b>.\n",
    "<br>\n",
    "4. <b>Resolução</b>\n",
    "* Após ambas as rodadas, ocorre a resolução do jogo. O dealer revela todas as suas cartas e o valor das mãos é contado.\n",
    "\n",
    "* A mão com maior valor sem ultrapassar 21 pontos ganha.\n",
    "\n",
    "* Caso o valor das mão seja igual, o dealer ganha.\n",
    "\n",
    "* Os <b><i>5 FURIOSOS</i></b> tem precedência sobre todos os outros valores. Quem os tiver sempre ganha.\n",
    "\n",
    "### *Instruções*\n",
    "\n",
    "Seu objetivo é criar um programa para se jogar o Blackjack Celestial como o jogador. O jogo deve printar a atualizar a mesa de acordo com a perspectiva do jogador. Não é necessário contar as cartas restantes no baralho.\n",
    "\n",
    "### Dicas\n",
    "\n",
    "* Utilize um loop para rodar manter o jogo rodando durante a partida.\n",
    "\n",
    "* Organize os procedimentos do programa de acordo com as fases do jogo."
   ]
  },
  {
   "cell_type": "code",
   "execution_count": null,
   "metadata": {},
   "outputs": [],
   "source": [
    "numero = ('A','2','3','4','5','6','7','8','9','10','J','Q','K')\n",
    "naipe = ('♠️','♥️','♣️','♦️')\n",
    "cartas = [(x, y) for x in numero for y in naipe]\n",
    "print(cartas)"
   ]
  },
  {
   "cell_type": "code",
   "execution_count": null,
   "metadata": {},
   "outputs": [],
   "source": [
    "#SEU CÓDIGO COMEÇA AQUI"
   ]
  },
  {
   "attachments": {
    "image-2.png": {
     "image/png": "[encoded data removed]"
    },
    "image.png": {
     "image/png": "[encoded data removed]"
    }
   },
   "cell_type": "markdown",
   "metadata": {},
   "source": [
    "## **Questão Bônus: Calculadora de Faltas**\n",
    "\n",
    "Enquanto Po avança em sua busca pelo Segredo do Código, ele se vê diante de um novo desafio: ele se torna aluno de graduação na FEA-USP. Embora honrado com a oportunidade de expandir seus conhecimentos, ele se depara com o dilema de conciliar seus estudos acadêmicos com sua jornada para descobrir o Segredo.\n",
    "\n",
    "Como um Guerreiro Panda determinado, Po percebe a importância de manter uma disciplina equilibrada entre suas responsabilidades acadêmicas e sua busca pelo Segredo do Código. Para ajudá-lo nessa empreitada, ele se empenha em criar uma calculadora de faltas personalizada, capaz de rastrear sua presença nas aulas da FEA-USP enquanto reserva tempo suficiente para concretizar sua jornada.\n",
    "\n",
    "<img src=\"https://lh3.googleusercontent.com/pw/AP1GczNh3C2ggPS2hT7XXlEqTrEYrx0Dh--qhh9vfnBEALaWq3XZ3FKmtsHJKsQCHgDS15ztWcWueR57JVMKKP9OKVBISFwbJb10kcjIL-WY2eqJSwwDjd68PLlHbiVp32HscDsTdMTMzXl0m_YyqcTFXW2d=w914-h919-s-no-gm?authuser=0\" alt=\"Your GIF\" height= 303 width= 303>\n",
    "\n",
    "### Hipóteses\n",
    "\n",
    "Considere a grade curricular do seguinte bixo de econodiu:\n",
    "\n",
    "![image.png](attachment:image.png)\n",
    "\n",
    "Considere que estas são as quantidades de aula totais de cada disciplina ao longo do semestre: \n",
    "* CONT - 32\n",
    "* MICRO - 32\n",
    "* CALC - 46\n",
    "* HEG - 32\n",
    "* ESTAT - 30\n",
    "\n",
    "Além disso, considere que a USP especificou os seguintes **feriados** no calendário letivo de 2024,\n",
    "\n",
    "* 25 a 30 de fevereiro,\n",
    "* 1 de maio e \n",
    "* 31 de maio.\n",
    "\n",
    "e considere o **período letivo** como de **26/02/2024** a **29/06/2024** e \n",
    "\n",
    "A **porcentagem MÍNIMA de presença de um aluno para não reprovar por falta é de 70%**.\n",
    "\n",
    "Para facilitar os inputs, vamos atribuir os seguintes **rótulos** a cada horário de aula:\n",
    "\n",
    "![image-2.png](attachment:image-2.png)\n",
    "\n",
    "### *Instruções*\n",
    "\n",
    "Permita ao usuário fazer **2 ```inputs```**: um para o dia da falta e outro para o horário de aula da falta. \n",
    "\n",
    "Exemplo:\n",
    "\n",
    "```Insira a data de falta no formato dd/mm/AAAA. 29/02/2024```\n",
    "\n",
    "```Qual foi o horário de falta? 2```\n",
    "\n",
    "\n",
    "* A cada input,\n",
    "    -  mostre ao usuário qual a sua % de presença na matéria cuja aula foi faltada,\n",
    "    \n",
    "    -  a quantidade de aulas daquela matéria que ele ainda pode reprovar,\n",
    "        \n",
    "        - se ele tiver < 70% de presença printe ```\"Você está reprovado por falta na matéria\"```.\n",
    "    \n",
    "    -  e a % de presença TOTAL (levando em consideração todas as disciplinas e faltas) do usuário.\n",
    "\n",
    "        - *Observação: atente-se ao fato de não faz sentido dizer que o usuário pode faltar mais 12,89 aulas. Arredonde os números quando necessário.*\n",
    "\n",
    "* Indique ao usuário que houve um erro se ele fornecer um input que atenda a um dos critérios abaixo, de forma que seja necessário que ele insira as informações novamente. Especifique qual foi o problema na sua mensagem de erro.\n",
    "\n",
    "    - em um dia fora do período letivo,\n",
    "\n",
    "    - em um dia de feriado,\n",
    "    \n",
    "    - um dia de final de semana,\n",
    "\n",
    "    - ou em um horário de aula que não consta na sua grade,\n",
    "\n",
    "Exemplo de mensagem de erro:\n",
    "\n",
    "```Você inseriu uma data de final de semana. Por favor, insira novamente.```\n",
    "\n",
    "    \n",
    "* Continue permitindo que o usuário insira faltas até que ele decida parar com a mensagem: ```Deseja inserir mais uma falta? Insira 1 para SIM e 0 para NÃO.```\n",
    "\n",
    "    - Se ele inserir um valor diferente de 0 ou 1, mostre uma mensagem de erro ```Você inseriu um valor inválido. Por favor, insira 0 ou 1.```;\n",
    "\n",
    "Exemplo:\n",
    "\n",
    "```Deseja inserir mais uma falta? Insira 1 para SIM e 0 para NÃO. 1```\n",
    "\n",
    "ou\n",
    "\n",
    "```Deseja inserir mais uma falta? Insira 1 para SIM e 0 para NÃO. 2```\n",
    "\n",
    "```Você inseriu um valor inválido. Por favor, insira 0 ou 1.```\n",
    "\n",
    "### Dicas\n",
    "\n",
    "* Organize os dados na estrutura de dicionários (ou qualquer outra estrutura que você achar mais conveniente).\n",
    "\n",
    "* a biblioteca ```datetime``` e seus métodos ```.strptime``` e ```.weekday```, bem como as funções ```date``` e ```timedelta``` podem ser muito úteis.\n",
    "\n",
    "* Para arredondamentos, a biblioteca ```math``` tem funções muito úteis.\n",
    "\n",
    "\n",
    "### Extras\n",
    "\n",
    "* Você pode printar a grade de aula do dia que o usuário especificou antes dele inserir o horário.\n",
    "\n",
    "* Para tornar o programa menos chato para o usuário, você pode fazer com que ele seja obrigado a corrigir a informação errada (como o dia da aula) antes de prestar a informação do horário.\n",
    "\n",
    "* Você pode dar ao usuário a opção de interromper o programa no meio da operação.\n",
    "\n"
   ]
  },
  {
   "cell_type": "code",
   "execution_count": null,
   "metadata": {},
   "outputs": [],
   "source": [
    "# SEU CÓDIGO COMEÇA AQUI"
   ]
  }
 ],
 "metadata": {
  "kernelspec": {
   "display_name": ".venv",
   "language": "python",
   "name": "python3"
  },
  "language_info": {
   "codemirror_mode": {
    "name": "ipython",
    "version": 3
   },
   "file_extension": ".py",
   "mimetype": "text/x-python",
   "name": "python",
   "nbconvert_exporter": "python",
   "pygments_lexer": "ipython3",
   "version": "3.12.2"
  }
 },
 "nbformat": 4,
 "nbformat_minor": 2
}
