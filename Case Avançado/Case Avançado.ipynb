{
 "cells": [
  {
   "cell_type": "markdown",
   "metadata": {},
   "source": [
    "# **Case Avançado**"
   ]
  },
  {
   "cell_type": "markdown",
   "metadata": {},
   "source": [
    "Wall-E é um robô compactador, deixado na Terra após a fuga dos humanos graças à grande quantidade de lixo acumulado no planeta. Durante sua rotina de compactar todo o lixo que encontra e empilha-lo, um dia Wall-E encontra outra robô, muito mais tecnológica, chamada EVA, que descobrimos ser da *Axiom*, uma nave gigantesca tripulada por toda a população humana mas que está ficando pequena para suportar a superpopulação para qual estão se encaminhando. Acompanhamos essa jornada incrível com ambos os personagens, tentando entender se a Terra já está \"saudável\" o suficiente para abrigar vida novamente."
   ]
  },
  {
   "cell_type": "markdown",
   "metadata": {},
   "source": [
    "<center> <img alt='Wall-E e EVA' width=80% src='https://images.alphacoders.com/112/112463.jpg'/> </center>"
   ]
  },
  {
   "cell_type": "code",
   "execution_count": null,
   "metadata": {},
   "outputs": [],
   "source": [
    "# Instalando as bibliotecas que vamos usar\n",
    "%pip install pandas seaborn matplotlib plotly geopandas numpy"
   ]
  },
  {
   "cell_type": "code",
   "execution_count": null,
   "metadata": {},
   "outputs": [],
   "source": [
    "# Importando as bibliotecas\n",
    "\n",
    "import pandas as pd\n",
    "import seaborn as sns\n",
    "import matplotlib.pyplot as plt\n",
    "import plotly.express as px"
   ]
  },
  {
   "cell_type": "markdown",
   "metadata": {},
   "source": [
    "## **Contextualização**\n",
    "\n"
   ]
  },
  {
   "cell_type": "markdown",
   "metadata": {},
   "source": [
    "Para ajudar Wall-E com sua missão de compactar o lixo do planeta, precisamos entender melhor sobre ele, por isso ele baixou um arquivo .csv com algumas informações sobre o lixo.\n",
    "\n",
    "**Descrição das Colunas do DataFrame:**\n",
    "- *dropoff_site*: Local onde o lixo será descartado\n",
    "- *load_id*: O número de identificação do carregamento\n",
    "- *load_time*: Horário de carregamento\n",
    "- *load_type*: Tipo de carregamento (ou de lixo)\n",
    "- *load_weight*: Peso do carregamento de lixo\n",
    "- *report_date*: Data do relatório\n",
    "- *route_number*: Número de identificação da rota\n",
    "- *route_type*: Tipo de rota"
   ]
  },
  {
   "cell_type": "markdown",
   "metadata": {},
   "source": [
    "## **Questão 1**"
   ]
  },
  {
   "cell_type": "markdown",
   "metadata": {},
   "source": [
    "### **a)** Leia o arquivo \"Wall-E.csv\" com nosso banco de dados, e o transforme em um Data Frame do Pandas."
   ]
  },
  {
   "cell_type": "code",
   "execution_count": null,
   "metadata": {},
   "outputs": [],
   "source": [
    "# SEU CÓDIGO COMEÇA AQUI"
   ]
  },
  {
   "cell_type": "markdown",
   "metadata": {},
   "source": [
    "### **b)** Com o Data Frame em mãos precisamos mexer um pouco nele: Transforme a coluna *report_date* em DateTime (com o comando do Pandas!)"
   ]
  },
  {
   "cell_type": "code",
   "execution_count": null,
   "metadata": {},
   "outputs": [],
   "source": [
    "# SEU CÓDIGO COMEÇA AQUI"
   ]
  },
  {
   "cell_type": "markdown",
   "metadata": {},
   "source": [
    "### **c)** Agora precisamos limpar o data frame: retire as linhas que não tenham o peso do carregamento (*load_weight*), ou seja, aquelas com valor Na, e as últimas 2 colunas, que não usaremos. Lembre-se de resetar o índice do data frame após isso!"
   ]
  },
  {
   "cell_type": "code",
   "execution_count": null,
   "metadata": {},
   "outputs": [],
   "source": [
    "# SEU CÓDIGO COMEÇA AQUI"
   ]
  },
  {
   "cell_type": "markdown",
   "metadata": {},
   "source": [
    "## **Questão 2**\n",
    "\n",
    "#### Podemos retirar algumas informações importantes do dataframe relacionados aos diferentes tipos de lixo e seus descartes, para otimizar o trabalho de Wall-E e saber quanto trabalho já foi feito na Terra.\n",
    "\n",
    "### **a)** Agora que você já descartou os dados sujos do dataframe, conte quantos lixos temos de cada tipo na base de dados."
   ]
  },
  {
   "cell_type": "code",
   "execution_count": null,
   "metadata": {},
   "outputs": [],
   "source": [
    "# SEU CÓDIGO COMEÇA AQUI"
   ]
  },
  {
   "cell_type": "markdown",
   "metadata": {},
   "source": [
    "### **b)** Calcule o peso médio do quanto foi descartado de cada tipo de lixo."
   ]
  },
  {
   "cell_type": "code",
   "execution_count": null,
   "metadata": {},
   "outputs": [],
   "source": [
    "# SEU CÓDIGO COMEÇA AQUI"
   ]
  },
  {
   "cell_type": "markdown",
   "metadata": {},
   "source": [
    "## **Questão 3**"
   ]
  },
  {
   "cell_type": "markdown",
   "metadata": {},
   "source": [
    "### Faça um gráfico da evolução do peso médio _anual_ ao longo do tempo (usando matplot, seaborn ou plotly)"
   ]
  },
  {
   "cell_type": "code",
   "execution_count": null,
   "metadata": {},
   "outputs": [],
   "source": [
    "# SEU CÓDIGO COMEÇA AQUI"
   ]
  },
  {
   "cell_type": "markdown",
   "metadata": {},
   "source": [
    "## **Contextualização**"
   ]
  },
  {
   "cell_type": "markdown",
   "metadata": {},
   "source": [
    "Que o planeta não suporta todo o lixo que a humanidade é capaz de produzir, isso é fato. Sabemos também que a população mundial cresce a cada dia, e com ela, a produção de lixo. Nesse sentido, faz-se necessário acompanhar e prever o crescimento populacional de forma a identificar quanto tempo ainda temos para salvar a Terra e evitar que cheguemos ao apocalipse igual ao presenciado pelo Wall-E."
   ]
  },
  {
   "cell_type": "markdown",
   "metadata": {},
   "source": [
    "Para tanto, vamos ajudar EVA a enfrentar seus problemas na Axiom, trabalhando  com uma base de dados contendo informações sobre a população mundial, e buscaremos fazer análises que nos apresentem insights sobre o futuro do nosso planeta. As colunas com as quais trabalharemos são:\n",
    "\n",
    "- *country*: nome do país\n",
    "- *rank*: posição do país em termos de população (em 2023)\n",
    "- *area*: área total do país em quilômetros quadrados\n",
    "- *landAreaKm*: área terrestre do país em quilômetros quadrados\n",
    "- *cca2*: código de dois caracteres do país\n",
    "- *cca3*: código de três caracteres do país\n",
    "- *netChange*: variação líquida da população (%)\n",
    "- *growthRate*: taxa de crescimento da população (%)\n",
    "- *worldPercentage*: percentual da população mundial do país (em 2023)\n",
    "- *density*: densidade populacional por quilômetro quadrado (em 2023)\n",
    "- *densityMi*: densidade populacional por milha quadrada\n",
    "- *place*: número representativo associado ao país\n",
    "- *pop1980*: população do país em 1980\n",
    "- *pop2000*: população do país em 2000\n",
    "- *pop2010*: população do país em 2010\n",
    "- *pop2022*: população do país em 2022\n",
    "- *pop2023*: população do país em 2023\n",
    "- *pop2030*: população do país em 2030\n",
    "- *pop2050*: população do país em 2050"
   ]
  },
  {
   "cell_type": "markdown",
   "metadata": {},
   "source": [
    "## **Questão 4**"
   ]
  },
  {
   "cell_type": "markdown",
   "metadata": {},
   "source": [
    "### **a)** Inicialmente, leia o arquivo \"EVA.csv\" com nosso banco de dados, e o transforme em um Data Frame do Pandas.\n"
   ]
  },
  {
   "cell_type": "code",
   "execution_count": null,
   "metadata": {},
   "outputs": [],
   "source": [
    "# SEU CÓDIGO COMEÇA AQUI"
   ]
  },
  {
   "cell_type": "markdown",
   "metadata": {},
   "source": [
    "### **b)** Agora, apresente os cinco países que mais crescem durante o período estudado. Para isso, utilize como base a coluna *growthRate*. Dê a taxa, os nomes e em que rank estão os países.\n"
   ]
  },
  {
   "cell_type": "code",
   "execution_count": null,
   "metadata": {},
   "outputs": [],
   "source": [
    "# SEU CÓDIGO COMEÇA AQUI"
   ]
  },
  {
   "cell_type": "markdown",
   "metadata": {},
   "source": [
    "### **c)** Por fim, apresente os cinco países menos densos. Dê sua densidade, seu nome, sua área de terra e sua população total em 2023."
   ]
  },
  {
   "cell_type": "code",
   "execution_count": null,
   "metadata": {},
   "outputs": [],
   "source": [
    "# SEU CÓDIGO COMEÇA AQUI"
   ]
  },
  {
   "cell_type": "markdown",
   "metadata": {},
   "source": [
    "## **Questão 5**"
   ]
  },
  {
   "cell_type": "markdown",
   "metadata": {},
   "source": [
    "### **a)** A partir dos dados da população mundial projetada para 2030, crie um gráfico de pizza com a porcentagem de cada país. Agrupe todos os países com menos de 1% da população mundial na classe \"Outros\"."
   ]
  },
  {
   "cell_type": "code",
   "execution_count": null,
   "metadata": {},
   "outputs": [],
   "source": [
    "## SEU CÓDIGO COMEÇA AQUI ##"
   ]
  },
  {
   "cell_type": "markdown",
   "metadata": {},
   "source": [
    "### **b)** A partir das projeções das populações mundiais, calcule a _taxa anual_ de variação entre os anos de 2023 e 2030 e, em seguida, entre 2030 e 2050. Apresente esses valores em box plots e contraste as diferenças de distribuição de dados. Interprete os resultados. (Tenha em mente perguntas como: as médias variaram? Os quantis indicam que mais países tem valores menos ou maiores de crescimento? O mundo está crescendo mais rápido ou menos rápido ao aproximar-se da metade do século?)"
   ]
  },
  {
   "cell_type": "code",
   "execution_count": null,
   "metadata": {},
   "outputs": [],
   "source": [
    "## SEU CÓDIGO COMEÇA AQUI ##"
   ]
  },
  {
   "cell_type": "markdown",
   "metadata": {},
   "source": [
    "### **c)** O principal objetivo desse exercício é trabalhar com a ideia de unir dataframes distintos e vasculhar possíveis problemas. Além disso, apresentamos uma forma de visualização bastante útil para alguns casos, que é o emprego de mapas.  \n",
    "### Nós já deixamos parte do código abaixo, com comentários do que ele faz. A partir do que lhe é fornecido, faça a união do dataframe contendo a informação dos limites de cada país no mapa com o seus dados de taxa de crescimento entre 2023-2030. Em seguida, plote um mapa com essas taxas em alguma escala de cor (busque os colormaps do pacote de Matplotlib. Eles podem ser bem úteis aqui).\n"
   ]
  },
  {
   "cell_type": "code",
   "execution_count": null,
   "metadata": {},
   "outputs": [],
   "source": [
    "import geopandas as gpd\n",
    "import numpy as np\n",
    "\n",
    "# Aciona arquivo com limites espaciais dos países\n",
    "world = gpd.read_file(gpd.datasets.get_path('naturalearth_lowres'))\n",
    "world['name'] = world['name'].str.replace('United States', 'United States of America')\n",
    "world['name'] = world['name'].str.replace('Dominican Republic', 'Dominican Rep.')\n",
    "\n",
    "# O formato do arquivo é Geopandas, que, como o nome sugere,\n",
    "# lembra muito o Pandas, organizando os dados em formato de tabela\n",
    "\n",
    "# A principal diferença é a presença de uma coluna chamada \"geometry\"\n",
    "# Ela contém as coordenadas geoógraficas, ou seja, onde a informação está em um mapa.\n",
    "\n",
    "# Você pode usar as mesmas funções que usaria em um DataFrame em um GeoDataFrame\n",
    "# Analise as primeiras linhas e colunas do geodataframe que criamos ('world')"
   ]
  },
  {
   "cell_type": "code",
   "execution_count": null,
   "metadata": {},
   "outputs": [],
   "source": [
    "# SEU CÓDIGO COMEÇA AQUI -- Obs: Seu DataFrame final deve ter o nome 'world_data'"
   ]
  },
  {
   "cell_type": "code",
   "execution_count": null,
   "metadata": {},
   "outputs": [],
   "source": [
    "# Rode o código e veja a saída!\n",
    "\n",
    "fig, ax = plt.subplots(figsize=(14, 7))\n",
    "\n",
    "world_data.plot(ax=ax, column='rate23-30', cmap='PuRd', legend=True, \n",
    "           legend_kwds={'label': \"Taxa  anual de crescimento (%)\", 'orientation': \"horizontal\"})\n",
    "\n",
    "plt.title('Crescimento populacional 2023-2030', loc='center', fontweight=\"bold\", fontsize=14)\n",
    "plt.xticks([])\n",
    "plt.yticks([])\n",
    "plt.xlabel('')  \n",
    "plt.ylabel('')  \n",
    "plt.show()"
   ]
  },
  {
   "cell_type": "markdown",
   "metadata": {},
   "source": [
    "## **Questão Bônus**"
   ]
  },
  {
   "cell_type": "markdown",
   "metadata": {},
   "source": [
    "### **a)** Crie um novo DataFrame com 2 colunas: o Ano e a População Mundial daquele ano (ou seja, a soma de todas as populações dos países)."
   ]
  },
  {
   "cell_type": "code",
   "execution_count": null,
   "metadata": {},
   "outputs": [],
   "source": [
    "# SEU CÓDIGO COMEÇA AQUI"
   ]
  },
  {
   "cell_type": "markdown",
   "metadata": {},
   "source": [
    "### **b)** Faça um gráfico de dispersão da população mundial (com as cores do arco-íris de acordo com o ano) e ajuste uma reta de regressão no gráfico."
   ]
  },
  {
   "cell_type": "code",
   "execution_count": null,
   "metadata": {},
   "outputs": [],
   "source": [
    "# SEU CÓDIGO COMEÇA AQUI"
   ]
  }
 ],
 "metadata": {
  "kernelspec": {
   "display_name": "Python 3.10.4 64-bit",
   "language": "python",
   "name": "python3"
  },
  "language_info": {
   "codemirror_mode": {
    "name": "ipython",
    "version": 3
   },
   "file_extension": ".py",
   "mimetype": "text/x-python",
   "name": "python",
   "nbconvert_exporter": "python",
   "pygments_lexer": "ipython3",
   "version": "3.11.3"
  },
  "vscode": {
   "interpreter": {
    "hash": "aee8b7b246df8f9039afb4144a1f6fd8d2ca17a180786b69acc140d282b71a49"
   }
  }
 },
 "nbformat": 4,
 "nbformat_minor": 2
}
